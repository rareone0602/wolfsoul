{
 "cells": [
  {
   "cell_type": "code",
   "execution_count": 62,
   "id": "068b07e7",
   "metadata": {},
   "outputs": [],
   "source": [
    "import cv2 as cv"
   ]
  },
  {
   "cell_type": "code",
   "execution_count": 2,
   "id": "2d83ddf6",
   "metadata": {},
   "outputs": [
    {
     "data": {
      "text/plain": [
       "[]"
      ]
     },
     "execution_count": 2,
     "metadata": {},
     "output_type": "execute_result"
    }
   ],
   "source": [
    "from glob import glob\n",
    "glob('public/imgs/wolfsoul_cropped*')"
   ]
  },
  {
   "cell_type": "code",
   "execution_count": 64,
   "id": "9bde950f",
   "metadata": {},
   "outputs": [
    {
     "data": {
      "text/plain": [
       "(5, 3)"
      ]
     },
     "execution_count": 64,
     "metadata": {},
     "output_type": "execute_result"
    }
   ],
   "source": [
    "# Per shape: 500 x 500 => 6 x 5\n",
    "piece = 600\n",
    "H = img.shape[0] // piece\n",
    "W = img.shape[1] // piece\n",
    "(H, W)"
   ]
  },
  {
   "cell_type": "code",
   "execution_count": 65,
   "id": "62185307",
   "metadata": {},
   "outputs": [],
   "source": [
    "# Implement center crop\n",
    "h = H * piece\n",
    "w = W * piece\n",
    "y = (img.shape[0] - h) / 2\n",
    "x = (img.shape[1] - w) / 2\n",
    "\n",
    "crop_img = img[int(y):int(y+h), int(x):int(x+w)]\n"
   ]
  },
  {
   "cell_type": "code",
   "execution_count": 66,
   "id": "b19b0226",
   "metadata": {},
   "outputs": [
    {
     "data": {
      "text/plain": [
       "(3000, 1800, 3)"
      ]
     },
     "execution_count": 66,
     "metadata": {},
     "output_type": "execute_result"
    }
   ],
   "source": [
    "crop_img.shape"
   ]
  },
  {
   "cell_type": "code",
   "execution_count": 67,
   "id": "11d15a09",
   "metadata": {},
   "outputs": [
    {
     "data": {
      "text/plain": [
       "True"
      ]
     },
     "execution_count": 67,
     "metadata": {},
     "output_type": "execute_result"
    }
   ],
   "source": [
    "cv.imwrite('src/wolfsoul_2021/wolfsoul_cropped.jpg', crop_img)"
   ]
  },
  {
   "cell_type": "code",
   "execution_count": 68,
   "id": "96cd7077",
   "metadata": {},
   "outputs": [],
   "source": [
    "crop_img[3 * piece: (3 + 1) * piece, 1 * piece: (1 + 1) * piece] = 0\n",
    "for i in range(H):\n",
    "    for j in range(W):\n",
    "        cv.imwrite('public/wolfsoul_cropped_{}_{}.jpg'.format(i, j), \n",
    "                   crop_img[i * piece: (i + 1) * piece, j * piece: (j + 1) * piece])"
   ]
  },
  {
   "cell_type": "code",
   "execution_count": 5,
   "id": "da69f2d8",
   "metadata": {},
   "outputs": [
    {
     "name": "stdout",
     "output_type": "stream",
     "text": [
      "1024.png                   9450808394508083_p4_1.png\r\n",
      "128.png                    9450808394508083_p4_10.png\r\n",
      "129.png                    9450808394508083_p4_11.png\r\n",
      "16.png                     9450808394508083_p4_2.png\r\n",
      "17.png                     9450808394508083_p4_3.png\r\n",
      "2.png                      9450808394508083_p4_4.png\r\n",
      "2048.png                   9450808394508083_p4_5.png\r\n",
      "256.png                    9450808394508083_p4_7.png\r\n",
      "31.png                     9450808394508083_p5_1.png\r\n",
      "32.png                     9450808394508083_p5_2.png\r\n",
      "4.png                      9450808394508083_p6_0.png\r\n",
      "512.png                    9450808394508083_p6_1.png\r\n",
      "513.png                    9450808394508083_p6_2.png\r\n",
      "64.png                     9450808394508083_p6_3.png\r\n",
      "65.png                     9450808394508083_p7_0.png\r\n",
      "8.png                      9450808394508083_p7_1.png\r\n",
      "9450808394508083_p10_2.png 9450808394508083_p7_2.png\r\n",
      "9450808394508083_p10_3.png 9450808394508083_p7_3.png\r\n",
      "9450808394508083_p10_4.png 9450808394508083_p8_0.png\r\n",
      "9450808394508083_p4_0.png\r\n"
     ]
    }
   ],
   "source": [
    "!ls public/imgs"
   ]
  },
  {
   "cell_type": "code",
   "execution_count": null,
   "id": "84866eb8",
   "metadata": {},
   "outputs": [],
   "source": []
  }
 ],
 "metadata": {
  "kernelspec": {
   "display_name": "Python 3 (ipykernel)",
   "language": "python",
   "name": "python3"
  },
  "language_info": {
   "codemirror_mode": {
    "name": "ipython",
    "version": 3
   },
   "file_extension": ".py",
   "mimetype": "text/x-python",
   "name": "python",
   "nbconvert_exporter": "python",
   "pygments_lexer": "ipython3",
   "version": "3.9.1"
  }
 },
 "nbformat": 4,
 "nbformat_minor": 5
}
